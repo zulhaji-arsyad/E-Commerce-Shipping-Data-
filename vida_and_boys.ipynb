{
 "cells": [
  {
   "cell_type": "markdown",
   "metadata": {
    "id": "yMe5tDG5motV"
   },
   "source": [
    "# KELOMPOK 10"
   ]
  },
  {
   "cell_type": "code",
   "execution_count": 16,
   "metadata": {
    "id": "rsdmsgaS_Qsg"
   },
   "outputs": [],
   "source": [
    "import pandas as pd\n",
    "import numpy as np\n",
    "import matplotlib.pyplot as plt\n",
    "import seaborn as sns\n",
    "## from google.colab import files\n",
    "import warnings\n",
    "warnings.filterwarnings('ignore')"
   ]
  },
  {
   "cell_type": "code",
   "execution_count": 4,
   "metadata": {
    "colab": {
     "base_uri": "https://localhost:8080/",
     "height": 74
    },
    "id": "--wueSVHH_JN",
    "outputId": "a60a8d21-1fd9-4eda-ca8d-86149085a518"
   },
   "outputs": [],
   "source": [
    "#uploaded = files.upload()\n",
    "df = pd.read_csv('Train.csv')"
   ]
  },
  {
   "cell_type": "markdown",
   "metadata": {
    "id": "5f09m6E__wTm"
   },
   "source": [
    "# **1. Data Cleaning (50 poin)**\n",
    "\n",
    "Lakukan pembersihan data, sesuai yang diajarkan di kelas, seperti: <br>\n",
    "A. Handle missing values <br>\n",
    "B. Handle duplicated data <br>\n",
    "C. Handle outliers <br>\n",
    "D. Feature transformation <br>\n",
    "E. Feature encoding <br>\n",
    "F. Handle class imbalance <br>\n",
    "Di laporan homework, tuliskan apa saja yang telah dilakukan dan metode yang digunakan. <br>\n",
    "<br>\n",
    "Tetap tuliskan jika memang ada tidak yang perlu di-handle (contoh: “Tidak perlu feature \n",
    "encoding karena semua feature sudah numerical” atau “Outlier tidak di-handle karena \n",
    "akan fokus menggunakan model yang robust terhadap outlier”)."
   ]
  },
  {
   "cell_type": "markdown",
   "metadata": {
    "id": "GQ0QJXwpA5ZI"
   },
   "source": [
    "### A. Handle Missing Values"
   ]
  },
  {
   "cell_type": "code",
   "execution_count": 5,
   "metadata": {
    "colab": {
     "base_uri": "https://localhost:8080/"
    },
    "id": "vxNC2gwTBi0s",
    "outputId": "57e25bec-b097-4f31-baca-5f57aafe3d3e"
   },
   "outputs": [
    {
     "name": "stdout",
     "output_type": "stream",
     "text": [
      "<class 'pandas.core.frame.DataFrame'>\n",
      "RangeIndex: 10999 entries, 0 to 10998\n",
      "Data columns (total 12 columns):\n",
      " #   Column               Non-Null Count  Dtype \n",
      "---  ------               --------------  ----- \n",
      " 0   ID                   10999 non-null  int64 \n",
      " 1   Warehouse_block      10999 non-null  object\n",
      " 2   Mode_of_Shipment     10999 non-null  object\n",
      " 3   Customer_care_calls  10999 non-null  int64 \n",
      " 4   Customer_rating      10999 non-null  int64 \n",
      " 5   Cost_of_the_Product  10999 non-null  int64 \n",
      " 6   Prior_purchases      10999 non-null  int64 \n",
      " 7   Product_importance   10999 non-null  object\n",
      " 8   Gender               10999 non-null  object\n",
      " 9   Discount_offered     10999 non-null  int64 \n",
      " 10  Weight_in_gms        10999 non-null  int64 \n",
      " 11  Reached.on.Time_Y.N  10999 non-null  int64 \n",
      "dtypes: int64(8), object(4)\n",
      "memory usage: 1.0+ MB\n"
     ]
    }
   ],
   "source": [
    "df.info()"
   ]
  },
  {
   "cell_type": "code",
   "execution_count": 6,
   "metadata": {
    "colab": {
     "base_uri": "https://localhost:8080/",
     "height": 206
    },
    "id": "0ONeBuAjLOQZ",
    "outputId": "1be50396-b5ca-4c94-e961-d5438bcc8a10"
   },
   "outputs": [
    {
     "data": {
      "text/html": [
       "<div>\n",
       "<style scoped>\n",
       "    .dataframe tbody tr th:only-of-type {\n",
       "        vertical-align: middle;\n",
       "    }\n",
       "\n",
       "    .dataframe tbody tr th {\n",
       "        vertical-align: top;\n",
       "    }\n",
       "\n",
       "    .dataframe thead th {\n",
       "        text-align: right;\n",
       "    }\n",
       "</style>\n",
       "<table border=\"1\" class=\"dataframe\">\n",
       "  <thead>\n",
       "    <tr style=\"text-align: right;\">\n",
       "      <th></th>\n",
       "      <th>ID</th>\n",
       "      <th>Warehouse_block</th>\n",
       "      <th>Mode_of_Shipment</th>\n",
       "      <th>Customer_care_calls</th>\n",
       "      <th>Customer_rating</th>\n",
       "      <th>Cost_of_the_Product</th>\n",
       "      <th>Prior_purchases</th>\n",
       "      <th>Product_importance</th>\n",
       "      <th>Gender</th>\n",
       "      <th>Discount_offered</th>\n",
       "      <th>Weight_in_gms</th>\n",
       "      <th>Reached.on.Time_Y.N</th>\n",
       "    </tr>\n",
       "  </thead>\n",
       "  <tbody>\n",
       "    <tr>\n",
       "      <th>0</th>\n",
       "      <td>1</td>\n",
       "      <td>D</td>\n",
       "      <td>Flight</td>\n",
       "      <td>4</td>\n",
       "      <td>2</td>\n",
       "      <td>177</td>\n",
       "      <td>3</td>\n",
       "      <td>low</td>\n",
       "      <td>F</td>\n",
       "      <td>44</td>\n",
       "      <td>1233</td>\n",
       "      <td>1</td>\n",
       "    </tr>\n",
       "    <tr>\n",
       "      <th>1</th>\n",
       "      <td>2</td>\n",
       "      <td>F</td>\n",
       "      <td>Flight</td>\n",
       "      <td>4</td>\n",
       "      <td>5</td>\n",
       "      <td>216</td>\n",
       "      <td>2</td>\n",
       "      <td>low</td>\n",
       "      <td>M</td>\n",
       "      <td>59</td>\n",
       "      <td>3088</td>\n",
       "      <td>1</td>\n",
       "    </tr>\n",
       "    <tr>\n",
       "      <th>2</th>\n",
       "      <td>3</td>\n",
       "      <td>A</td>\n",
       "      <td>Flight</td>\n",
       "      <td>2</td>\n",
       "      <td>2</td>\n",
       "      <td>183</td>\n",
       "      <td>4</td>\n",
       "      <td>low</td>\n",
       "      <td>M</td>\n",
       "      <td>48</td>\n",
       "      <td>3374</td>\n",
       "      <td>1</td>\n",
       "    </tr>\n",
       "    <tr>\n",
       "      <th>3</th>\n",
       "      <td>4</td>\n",
       "      <td>B</td>\n",
       "      <td>Flight</td>\n",
       "      <td>3</td>\n",
       "      <td>3</td>\n",
       "      <td>176</td>\n",
       "      <td>4</td>\n",
       "      <td>medium</td>\n",
       "      <td>M</td>\n",
       "      <td>10</td>\n",
       "      <td>1177</td>\n",
       "      <td>1</td>\n",
       "    </tr>\n",
       "    <tr>\n",
       "      <th>4</th>\n",
       "      <td>5</td>\n",
       "      <td>C</td>\n",
       "      <td>Flight</td>\n",
       "      <td>2</td>\n",
       "      <td>2</td>\n",
       "      <td>184</td>\n",
       "      <td>3</td>\n",
       "      <td>medium</td>\n",
       "      <td>F</td>\n",
       "      <td>46</td>\n",
       "      <td>2484</td>\n",
       "      <td>1</td>\n",
       "    </tr>\n",
       "  </tbody>\n",
       "</table>\n",
       "</div>"
      ],
      "text/plain": [
       "   ID Warehouse_block Mode_of_Shipment  Customer_care_calls  Customer_rating  \\\n",
       "0   1               D           Flight                    4                2   \n",
       "1   2               F           Flight                    4                5   \n",
       "2   3               A           Flight                    2                2   \n",
       "3   4               B           Flight                    3                3   \n",
       "4   5               C           Flight                    2                2   \n",
       "\n",
       "   Cost_of_the_Product  Prior_purchases Product_importance Gender  \\\n",
       "0                  177                3                low      F   \n",
       "1                  216                2                low      M   \n",
       "2                  183                4                low      M   \n",
       "3                  176                4             medium      M   \n",
       "4                  184                3             medium      F   \n",
       "\n",
       "   Discount_offered  Weight_in_gms  Reached.on.Time_Y.N  \n",
       "0                44           1233                    1  \n",
       "1                59           3088                    1  \n",
       "2                48           3374                    1  \n",
       "3                10           1177                    1  \n",
       "4                46           2484                    1  "
      ]
     },
     "execution_count": 6,
     "metadata": {},
     "output_type": "execute_result"
    }
   ],
   "source": [
    "df.head(5)"
   ]
  },
  {
   "cell_type": "code",
   "execution_count": 7,
   "metadata": {
    "colab": {
     "base_uri": "https://localhost:8080/"
    },
    "id": "LUJvSQ9dLT7G",
    "outputId": "a7e2e948-5a5b-4a87-b539-79980f36e052"
   },
   "outputs": [
    {
     "data": {
      "text/plain": [
       "ID                     0\n",
       "Warehouse_block        0\n",
       "Mode_of_Shipment       0\n",
       "Customer_care_calls    0\n",
       "Customer_rating        0\n",
       "Cost_of_the_Product    0\n",
       "Prior_purchases        0\n",
       "Product_importance     0\n",
       "Gender                 0\n",
       "Discount_offered       0\n",
       "Weight_in_gms          0\n",
       "Reached.on.Time_Y.N    0\n",
       "dtype: int64"
      ]
     },
     "execution_count": 7,
     "metadata": {},
     "output_type": "execute_result"
    }
   ],
   "source": [
    "df.isna().sum()"
   ]
  },
  {
   "cell_type": "code",
   "execution_count": 8,
   "metadata": {
    "id": "xjFZytNrRelR"
   },
   "outputs": [],
   "source": [
    "# Pengelompokan kolom berdasarkan jenisnya\n",
    "cat = ['Warehouse_block', 'Mode_of_Shipment', 'Product_importance', 'Gender']\n",
    "num = ['Customer_care_calls', 'Customer_rating', 'Cost_of_the_Product', 'Prior_purchases', 'Discount_offered', 'Weight_in_gms']\n",
    "num_cat = ['Reached.on.Time_Y.N']"
   ]
  },
  {
   "cell_type": "code",
   "execution_count": 9,
   "metadata": {
    "colab": {
     "base_uri": "https://localhost:8080/",
     "height": 300
    },
    "id": "ZB_ZfLqgTAw-",
    "outputId": "4d359a14-9ebf-4cf2-a13c-c12d87437493"
   },
   "outputs": [
    {
     "data": {
      "text/html": [
       "<div>\n",
       "<style scoped>\n",
       "    .dataframe tbody tr th:only-of-type {\n",
       "        vertical-align: middle;\n",
       "    }\n",
       "\n",
       "    .dataframe tbody tr th {\n",
       "        vertical-align: top;\n",
       "    }\n",
       "\n",
       "    .dataframe thead th {\n",
       "        text-align: right;\n",
       "    }\n",
       "</style>\n",
       "<table border=\"1\" class=\"dataframe\">\n",
       "  <thead>\n",
       "    <tr style=\"text-align: right;\">\n",
       "      <th></th>\n",
       "      <th>Customer_care_calls</th>\n",
       "      <th>Customer_rating</th>\n",
       "      <th>Cost_of_the_Product</th>\n",
       "      <th>Prior_purchases</th>\n",
       "      <th>Discount_offered</th>\n",
       "      <th>Weight_in_gms</th>\n",
       "    </tr>\n",
       "  </thead>\n",
       "  <tbody>\n",
       "    <tr>\n",
       "      <th>count</th>\n",
       "      <td>10999.000000</td>\n",
       "      <td>10999.000000</td>\n",
       "      <td>10999.000000</td>\n",
       "      <td>10999.000000</td>\n",
       "      <td>10999.000000</td>\n",
       "      <td>10999.000000</td>\n",
       "    </tr>\n",
       "    <tr>\n",
       "      <th>mean</th>\n",
       "      <td>4.054459</td>\n",
       "      <td>2.990545</td>\n",
       "      <td>210.196836</td>\n",
       "      <td>3.567597</td>\n",
       "      <td>13.373216</td>\n",
       "      <td>3634.016729</td>\n",
       "    </tr>\n",
       "    <tr>\n",
       "      <th>std</th>\n",
       "      <td>1.141490</td>\n",
       "      <td>1.413603</td>\n",
       "      <td>48.063272</td>\n",
       "      <td>1.522860</td>\n",
       "      <td>16.205527</td>\n",
       "      <td>1635.377251</td>\n",
       "    </tr>\n",
       "    <tr>\n",
       "      <th>min</th>\n",
       "      <td>2.000000</td>\n",
       "      <td>1.000000</td>\n",
       "      <td>96.000000</td>\n",
       "      <td>2.000000</td>\n",
       "      <td>1.000000</td>\n",
       "      <td>1001.000000</td>\n",
       "    </tr>\n",
       "    <tr>\n",
       "      <th>25%</th>\n",
       "      <td>3.000000</td>\n",
       "      <td>2.000000</td>\n",
       "      <td>169.000000</td>\n",
       "      <td>3.000000</td>\n",
       "      <td>4.000000</td>\n",
       "      <td>1839.500000</td>\n",
       "    </tr>\n",
       "    <tr>\n",
       "      <th>50%</th>\n",
       "      <td>4.000000</td>\n",
       "      <td>3.000000</td>\n",
       "      <td>214.000000</td>\n",
       "      <td>3.000000</td>\n",
       "      <td>7.000000</td>\n",
       "      <td>4149.000000</td>\n",
       "    </tr>\n",
       "    <tr>\n",
       "      <th>75%</th>\n",
       "      <td>5.000000</td>\n",
       "      <td>4.000000</td>\n",
       "      <td>251.000000</td>\n",
       "      <td>4.000000</td>\n",
       "      <td>10.000000</td>\n",
       "      <td>5050.000000</td>\n",
       "    </tr>\n",
       "    <tr>\n",
       "      <th>max</th>\n",
       "      <td>7.000000</td>\n",
       "      <td>5.000000</td>\n",
       "      <td>310.000000</td>\n",
       "      <td>10.000000</td>\n",
       "      <td>65.000000</td>\n",
       "      <td>7846.000000</td>\n",
       "    </tr>\n",
       "  </tbody>\n",
       "</table>\n",
       "</div>"
      ],
      "text/plain": [
       "       Customer_care_calls  Customer_rating  Cost_of_the_Product  \\\n",
       "count         10999.000000     10999.000000         10999.000000   \n",
       "mean              4.054459         2.990545           210.196836   \n",
       "std               1.141490         1.413603            48.063272   \n",
       "min               2.000000         1.000000            96.000000   \n",
       "25%               3.000000         2.000000           169.000000   \n",
       "50%               4.000000         3.000000           214.000000   \n",
       "75%               5.000000         4.000000           251.000000   \n",
       "max               7.000000         5.000000           310.000000   \n",
       "\n",
       "       Prior_purchases  Discount_offered  Weight_in_gms  \n",
       "count     10999.000000      10999.000000   10999.000000  \n",
       "mean          3.567597         13.373216    3634.016729  \n",
       "std           1.522860         16.205527    1635.377251  \n",
       "min           2.000000          1.000000    1001.000000  \n",
       "25%           3.000000          4.000000    1839.500000  \n",
       "50%           3.000000          7.000000    4149.000000  \n",
       "75%           4.000000         10.000000    5050.000000  \n",
       "max          10.000000         65.000000    7846.000000  "
      ]
     },
     "execution_count": 9,
     "metadata": {},
     "output_type": "execute_result"
    }
   ],
   "source": [
    "# Ringkasan statistik dari kolom numerik\n",
    "df[num].describe()"
   ]
  },
  {
   "cell_type": "code",
   "execution_count": 10,
   "metadata": {
    "colab": {
     "base_uri": "https://localhost:8080/",
     "height": 175
    },
    "id": "fR4kpal9Ta3x",
    "outputId": "9cf3bc7b-8ff0-401c-ffcd-a955617e4b28"
   },
   "outputs": [
    {
     "data": {
      "text/html": [
       "<div>\n",
       "<style scoped>\n",
       "    .dataframe tbody tr th:only-of-type {\n",
       "        vertical-align: middle;\n",
       "    }\n",
       "\n",
       "    .dataframe tbody tr th {\n",
       "        vertical-align: top;\n",
       "    }\n",
       "\n",
       "    .dataframe thead th {\n",
       "        text-align: right;\n",
       "    }\n",
       "</style>\n",
       "<table border=\"1\" class=\"dataframe\">\n",
       "  <thead>\n",
       "    <tr style=\"text-align: right;\">\n",
       "      <th></th>\n",
       "      <th>Warehouse_block</th>\n",
       "      <th>Mode_of_Shipment</th>\n",
       "      <th>Product_importance</th>\n",
       "      <th>Gender</th>\n",
       "    </tr>\n",
       "  </thead>\n",
       "  <tbody>\n",
       "    <tr>\n",
       "      <th>count</th>\n",
       "      <td>10999</td>\n",
       "      <td>10999</td>\n",
       "      <td>10999</td>\n",
       "      <td>10999</td>\n",
       "    </tr>\n",
       "    <tr>\n",
       "      <th>unique</th>\n",
       "      <td>5</td>\n",
       "      <td>3</td>\n",
       "      <td>3</td>\n",
       "      <td>2</td>\n",
       "    </tr>\n",
       "    <tr>\n",
       "      <th>top</th>\n",
       "      <td>F</td>\n",
       "      <td>Ship</td>\n",
       "      <td>low</td>\n",
       "      <td>F</td>\n",
       "    </tr>\n",
       "    <tr>\n",
       "      <th>freq</th>\n",
       "      <td>3666</td>\n",
       "      <td>7462</td>\n",
       "      <td>5297</td>\n",
       "      <td>5545</td>\n",
       "    </tr>\n",
       "  </tbody>\n",
       "</table>\n",
       "</div>"
      ],
      "text/plain": [
       "       Warehouse_block Mode_of_Shipment Product_importance Gender\n",
       "count            10999            10999              10999  10999\n",
       "unique               5                3                  3      2\n",
       "top                  F             Ship                low      F\n",
       "freq              3666             7462               5297   5545"
      ]
     },
     "execution_count": 10,
     "metadata": {},
     "output_type": "execute_result"
    }
   ],
   "source": [
    "# Categorical kolom\n",
    "df[cat].describe()"
   ]
  },
  {
   "cell_type": "markdown",
   "metadata": {
    "id": "LkJy6YiRIKTE"
   },
   "source": [
    "## - Pada Handle Missing Values tidak ada yang perlu di handle karena tidak ada data yang kosong, data terbilang lengkap."
   ]
  },
  {
   "cell_type": "markdown",
   "metadata": {
    "id": "cBAdtNDoIkOq"
   },
   "source": [
    "### B. Handle Duplicate Data"
   ]
  },
  {
   "cell_type": "code",
   "execution_count": 11,
   "metadata": {
    "colab": {
     "base_uri": "https://localhost:8080/"
    },
    "id": "jePdoggoIkuE",
    "outputId": "8f73b23e-835a-4fcc-9668-96e8f833229f"
   },
   "outputs": [
    {
     "data": {
      "text/plain": [
       "0"
      ]
     },
     "execution_count": 11,
     "metadata": {},
     "output_type": "execute_result"
    }
   ],
   "source": [
    "# Cek jumlah duplikat row dari semua kolom\n",
    "df.duplicated().sum()"
   ]
  },
  {
   "cell_type": "markdown",
   "metadata": {
    "id": "us0rdxP9KCMP"
   },
   "source": [
    "## - Pada Handle Duplicate Data, tidak perlu melakukan pengghapusas atau memanipulasi data karena data yang duplikat pada dataset tidak ada\n",
    "\n"
   ]
  },
  {
   "cell_type": "markdown",
   "metadata": {
    "id": "nUVtS1eCKOXj"
   },
   "source": [
    "# C. Handle Outliers"
   ]
  },
  {
   "cell_type": "code",
   "execution_count": 12,
   "metadata": {
    "id": "T6WxYtdFJom3"
   },
   "outputs": [],
   "source": [
    "from scipy import stats"
   ]
  },
  {
   "cell_type": "code",
   "execution_count": 13,
   "metadata": {
    "colab": {
     "base_uri": "https://localhost:8080/"
    },
    "id": "yiX8k5nv76Ee",
    "outputId": "a4904196-d7c2-4059-bfab-2ab2c730f9fd"
   },
   "outputs": [
    {
     "name": "stdout",
     "output_type": "stream",
     "text": [
      "Jumlah baris sebelum memfilter outlier: 10999\n",
      "Jumlah baris setelah memfilter outlier: 10821\n"
     ]
    }
   ],
   "source": [
    "print(f'Jumlah baris sebelum memfilter outlier: {len(df)}')\n",
    "\n",
    "filtered_entries = np.array([True] * len(df))\n",
    "\n",
    "for col in ['Customer_care_calls', 'Prior_purchases']:\n",
    "  zscore = abs(stats.zscore(df[col]))\n",
    "  filtered_entries = (zscore < 3) & filtered_entries\n",
    "\n",
    "df1 = df[filtered_entries]\n",
    "\n",
    "print(f'Jumlah baris setelah memfilter outlier: {len(df1)}')"
   ]
  },
  {
   "cell_type": "markdown",
   "metadata": {
    "id": "-Ojs2G3f23xn"
   },
   "source": [
    "#### - Pada Handle Outliers kita perlu menghilangkan ourtlier yang extrime pada kolom Prior Purchases, dari jumlah baris awal 10999 setelah difilter menjadi 10821 baris"
   ]
  },
  {
   "cell_type": "markdown",
   "metadata": {
    "id": "mCxZVpnbcmQ2"
   },
   "source": [
    "### D. Feature transformation"
   ]
  },
  {
   "cell_type": "code",
   "execution_count": 14,
   "metadata": {
    "id": "wDkU7D47OgVA"
   },
   "outputs": [],
   "source": [
    "from sklearn.preprocessing import MinMaxScaler, StandardScaler"
   ]
  },
  {
   "cell_type": "code",
   "execution_count": 17,
   "metadata": {
    "colab": {
     "base_uri": "https://localhost:8080/"
    },
    "id": "xAOFBY98-W9M",
    "outputId": "beac9bb3-d045-4c2c-bf79-798f2763a6da"
   },
   "outputs": [],
   "source": [
    "# StandardScaler transformation\n",
    "df1['std_Prior_purchases'] = StandardScaler().fit_transform(df1['Prior_purchases'].values.reshape(len(df1), 1))"
   ]
  },
  {
   "cell_type": "code",
   "execution_count": 18,
   "metadata": {
    "colab": {
     "base_uri": "https://localhost:8080/"
    },
    "id": "H_mGGRBQkcL-",
    "outputId": "198ce3e3-d5c8-4ac2-a58e-f2c07824f738"
   },
   "outputs": [],
   "source": [
    "# MinMaxScaler transformation\n",
    "df1['norm_Customer_care_calls'] = MinMaxScaler().fit_transform(df1['Customer_care_calls'].values.reshape(len(df1), 1))\n",
    "df1['norm_Cost_of_the_Product'] = MinMaxScaler().fit_transform(df1['Cost_of_the_Product'].values.reshape(len(df1), 1))\n",
    "df1['norm_Weight_in_gms'] = MinMaxScaler().fit_transform(df1['Weight_in_gms'].values.reshape(len(df1), 1))"
   ]
  },
  {
   "cell_type": "code",
   "execution_count": 19,
   "metadata": {
    "id": "5iqyHArYIK1S"
   },
   "outputs": [],
   "source": [
    "std_num = ['std_Prior_purchases', 'norm_Customer_care_calls', 'norm_Cost_of_the_Product', 'norm_Weight_in_gms']"
   ]
  },
  {
   "cell_type": "code",
   "execution_count": 20,
   "metadata": {
    "id": "gbKUH_KXOKgE"
   },
   "outputs": [],
   "source": [
    "# log transformation\n",
    "# df['log_Cost_of_the_Product'] = np.log(df['Cost_of_the_Product'])\n",
    "# df['log_Discount_offered'] = np.log(df['Discount_offered'])\n",
    "# df['log_Weight_in_gms'] = np.log(df['Weight_in_gms'])"
   ]
  },
  {
   "cell_type": "code",
   "execution_count": 21,
   "metadata": {
    "colab": {
     "base_uri": "https://localhost:8080/",
     "height": 267
    },
    "id": "7mOWGbMvHAsi",
    "outputId": "d2b18df8-1ca6-40a2-ea8b-c8ac65e56092"
   },
   "outputs": [
    {
     "data": {
      "image/png": "[encoded data removed]",
      "text/plain": [
       "<Figure size 1440x720 with 4 Axes>"
      ]
     },
     "metadata": {
      "needs_background": "light"
     },
     "output_type": "display_data"
    }
   ],
   "source": [
    "plt.figure(figsize = (20, 10))\n",
    "for i in range(0, len(std_num)):\n",
    "  plt.subplot(3, len(std_num), i+1)\n",
    "  sns.kdeplot(df1[std_num[i]])\n",
    "  plt.tight_layout()"
   ]
  },
  {
   "cell_type": "code",
   "execution_count": 22,
   "metadata": {
    "id": "DD5IgnFoCh9i"
   },
   "outputs": [],
   "source": [
    "# df1 = df1.drop(columns=['Cost_of_the_Product', 'Customer_care_calls', 'Weight_in_gms', 'Prior_purchases'])"
   ]
  },
  {
   "cell_type": "markdown",
   "metadata": {
    "id": "qTsdTNad8FhT"
   },
   "source": [
    "## -Pada Feature transformation, ada beberapa feature yang diHandle yaitu Prior purchases menjadi nilai standardization dan feature Customer care calls, Cost of the product, dan Weight in gms menjadi nilai normalization. setelah mendapatkan feature baru, feature nilai asli akan di drop"
   ]
  },
  {
   "cell_type": "markdown",
   "metadata": {
    "id": "fcd4OL1GtPMe"
   },
   "source": [
    "## Cara 2 menggunakan function normalizer"
   ]
  },
  {
   "cell_type": "code",
   "execution_count": 23,
   "metadata": {
    "colab": {
     "base_uri": "https://localhost:8080/",
     "height": 169
    },
    "id": "jYiep99_ucNk",
    "outputId": "34f96e30-e16b-419c-c106-b5ecb812f899"
   },
   "outputs": [
    {
     "data": {
      "image/png": "[encoded data removed]",
      "text/plain": [
       "<Figure size 864x576 with 4 Axes>"
      ]
     },
     "metadata": {
      "needs_background": "light"
     },
     "output_type": "display_data"
    }
   ],
   "source": [
    "num = [ 'Prior_purchases','Customer_care_calls','Cost_of_the_Product', 'Weight_in_gms']\n",
    "plt.figure(figsize=(12,8))\n",
    "\n",
    "for i, column in enumerate (df[num].columns, 1):\n",
    "    plt.subplot(4,4,i)\n",
    "    sns.kdeplot(data=df[num], x=df[column])\n",
    "    plt.tight_layout()"
   ]
  },
  {
   "cell_type": "code",
   "execution_count": 24,
   "metadata": {
    "colab": {
     "base_uri": "https://localhost:8080/",
     "height": 716
    },
    "id": "CZzFU3mntR_x",
    "outputId": "b8de758c-da98-42db-e070-107a58584d01"
   },
   "outputs": [
    {
     "data": {
      "image/png": "[encoded data removed]",
      "text/plain": [
       "<Figure size 864x576 with 4 Axes>"
      ]
     },
     "metadata": {
      "needs_background": "light"
     },
     "output_type": "display_data"
    }
   ],
   "source": [
    "from sklearn.preprocessing import Normalizer\n",
    "num = ['Customer_care_calls', 'Cost_of_the_Product', 'Prior_purchases', 'Weight_in_gms']\n",
    "features = df1[num]\n",
    "\n",
    "scaler = Normalizer(norm = 'l2')\n",
    "# norm = 'l2' is default\n",
    "\n",
    "df1[num] = scaler.fit_transform(features.values)\n",
    "\n",
    "plt.figure(figsize=(12,8))\n",
    "\n",
    "for i, column in enumerate (df1[num].columns, 1):\n",
    "    plt.subplot(2,2,i)\n",
    "    sns.kdeplot(data=df1, x=df1[column])\n",
    "    plt.tight_layout()"
   ]
  },
  {
   "cell_type": "markdown",
   "metadata": {
    "id": "hu_5d4HFBGco"
   },
   "source": [
    "# E. Feature Encoding"
   ]
  },
  {
   "cell_type": "code",
   "execution_count": 25,
   "metadata": {
    "colab": {
     "base_uri": "https://localhost:8080/"
    },
    "id": "WT5jsxU1BPNo",
    "outputId": "9cb6d2f1-8fe1-414e-b11c-4c35e112075f"
   },
   "outputs": [],
   "source": [
    "# Label Encoding\n",
    "mapping_Product_importance = {\n",
    "    'low' : 0,\n",
    "    'medium' : 1,\n",
    "    'high' : 2\n",
    "}\n",
    "\n",
    "mapping_Gender = {\n",
    "    'F' : 0,\n",
    "    'M' : 1\n",
    "}\n",
    "\n",
    "mapping_Discount_offered = {\n",
    "    '25%' : [int(x) for x in np.linspace(1,25,25)],\n",
    "    '50%' : [int(x) for x in np.linspace(26,50,25)],\n",
    "    '75%' : [int(x) for x in np.linspace(51,75,25)]\n",
    "}\n",
    "df1['Product_importance'] = df1['Product_importance'].map(mapping_Product_importance)\n",
    "df1['Gender'] = df1['Gender'].map(mapping_Gender)\n",
    "df1['Discount_offered'] = df1['Discount_offered'].map(mapping_Discount_offered)"
   ]
  },
  {
   "cell_type": "code",
   "execution_count": 26,
   "metadata": {
    "id": "zUdlDzAEJe79"
   },
   "outputs": [],
   "source": [
    "# One Hot Encoder\n",
    "for cat in ['Mode_of_Shipment', 'Warehouse_block']:\n",
    "    onehots = pd.get_dummies(df1[cat], prefix=cat)\n",
    "    df1 = df1.join(onehots)"
   ]
  },
  {
   "cell_type": "code",
   "execution_count": 27,
   "metadata": {
    "id": "j01F1jN1Jl4u"
   },
   "outputs": [],
   "source": [
    "# drop kolom yang di encoding menggunakan OHE : 'Mode_of_Shipment' & 'Warehouse_block'\n",
    "df1 = df1.drop(columns=['Mode_of_Shipment', 'Warehouse_block'])"
   ]
  },
  {
   "cell_type": "code",
   "execution_count": 28,
   "metadata": {
    "id": "uzh8m-e01znE"
   },
   "outputs": [],
   "source": [
    "df1 = df1.drop(columns=['ID'])"
   ]
  },
  {
   "cell_type": "markdown",
   "metadata": {
    "id": "zra4dR3CKZ4i"
   },
   "source": [
    "## Pada Feature Encoding, ada beberapa feature yang akan dilabel encoding dan one hot endcoder diantaranya adalah, feature gender, Discount offered dan Product importence akan dilabel encoding dengan metode mapping, lalu untuk feature mode of shipment dan warehouse block akan di one hot encoder. Ada pula yang tidak perlu di lakukan feature encoding seperti feature Customer rating.<br>\n",
    "## Setelah itu kolom nilai asli yang sudah di one hot encoder akan di drop "
   ]
  },
  {
   "cell_type": "markdown",
   "metadata": {
    "id": "_S43RoubJpAB"
   },
   "source": [
    "# F. Handle class imbalance"
   ]
  },
  {
   "cell_type": "code",
   "execution_count": 29,
   "metadata": {
    "colab": {
     "base_uri": "https://localhost:8080/"
    },
    "id": "KPDicBzOJohK",
    "outputId": "79ba7caf-fbc4-4564-ccea-21c8658da904"
   },
   "outputs": [
    {
     "data": {
      "text/plain": [
       "1    6461\n",
       "0    4360\n",
       "Name: Reached.on.Time_Y.N, dtype: int64"
      ]
     },
     "execution_count": 29,
     "metadata": {},
     "output_type": "execute_result"
    }
   ],
   "source": [
    "df1['Reached.on.Time_Y.N'].value_counts()"
   ]
  },
  {
   "cell_type": "code",
   "execution_count": 30,
   "metadata": {
    "colab": {
     "base_uri": "https://localhost:8080/"
    },
    "id": "ImoEfm818kkx",
    "outputId": "8b8fab7f-8276-4201-a128-6bfeddc77c04"
   },
   "outputs": [
    {
     "name": "stdout",
     "output_type": "stream",
     "text": [
      "True     6461\n",
      "False    4360\n",
      "Name: Reached.on.Time_class, dtype: int64\n"
     ]
    }
   ],
   "source": [
    "df1['Reached.on.Time_class'] = df1['Reached.on.Time_Y.N'] > 0.8\n",
    "print(df1['Reached.on.Time_class'].value_counts())"
   ]
  },
  {
   "cell_type": "code",
   "execution_count": 32,
   "metadata": {
    "colab": {
     "base_uri": "https://localhost:8080/"
    },
    "id": "qGBzYt7X-FYZ",
    "outputId": "8692ad0e-4274-48f8-94dd-1900f80cc70f"
   },
   "outputs": [
    {
     "name": "stdout",
     "output_type": "stream",
     "text": [
      "(10821, 20)\n",
      "(10821,)\n"
     ]
    }
   ],
   "source": [
    "X = df1[[col for col in df1.columns if col not in['Reached.on.Time_class', 'Reached.on.Time_Y.N']]].values\n",
    "y = df1['Reached.on.Time_class'].values\n",
    "print(X.shape)\n",
    "print(y.shape)"
   ]
  },
  {
   "cell_type": "code",
   "execution_count": 39,
   "metadata": {
    "colab": {
     "base_uri": "https://localhost:8080/"
    },
    "id": "SIxIAwf8_kvE",
    "outputId": "7eb44c6f-717f-44c3-b15f-424ee06770df"
   },
   "outputs": [
    {
     "ename": "ModuleNotFoundError",
     "evalue": "No module named 'imblearn'",
     "output_type": "error",
     "traceback": [
      "\u001b[1;31m---------------------------------------------------------------------------\u001b[0m",
      "\u001b[1;31mModuleNotFoundError\u001b[0m                       Traceback (most recent call last)",
      "Input \u001b[1;32mIn [39]\u001b[0m, in \u001b[0;36m<cell line: 1>\u001b[1;34m()\u001b[0m\n\u001b[1;32m----> 1\u001b[0m \u001b[38;5;28;01mfrom\u001b[39;00m \u001b[38;5;21;01mimblearn\u001b[39;00m\u001b[38;5;21;01m.\u001b[39;00m\u001b[38;5;21;01munder_sampling\u001b[39;00m \u001b[38;5;28;01mimport\u001b[39;00m under_sampling\n\u001b[0;32m      2\u001b[0m \u001b[38;5;28;01mfrom\u001b[39;00m \u001b[38;5;21;01mimblearn\u001b[39;00m\u001b[38;5;21;01m.\u001b[39;00m\u001b[38;5;21;01mover_sampling\u001b[39;00m \u001b[38;5;28;01mimport\u001b[39;00m over_sampling\n\u001b[0;32m      4\u001b[0m X_over, y_over \u001b[38;5;241m=\u001b[39m over_sampling\u001b[38;5;241m.\u001b[39mRandomOverSampler(\u001b[38;5;241m1\u001b[39m)\u001b[38;5;241m.\u001b[39mfit_resample(X, y)\n",
      "\u001b[1;31mModuleNotFoundError\u001b[0m: No module named 'imblearn'"
     ]
    }
   ],
   "source": [
    "from imblearn.under_sampling import under_sampling\n",
    "from imblearn.over_sampling import over_sampling\n",
    "\n",
    "X_over, y_over = over_sampling.RandomOverSampler(1).fit_resample(X, y)\n",
    "print(pd.Series(y_over).value_counts())"
   ]
  },
  {
   "cell_type": "markdown",
   "metadata": {
    "id": "TR3KXyU_Bboc"
   },
   "source": [
    "## Pada handle class imbalance, metode yang digunakan adalah oversampling"
   ]
  },
  {
   "cell_type": "markdown",
   "metadata": {
    "id": "Yi3VO46nCGFT"
   },
   "source": [
    "# Train_test_split"
   ]
  },
  {
   "cell_type": "code",
   "execution_count": 34,
   "metadata": {
    "id": "quD8mp7eB87O"
   },
   "outputs": [],
   "source": [
    "X = df1.drop(columns=['Reached.on.Time_Y.N'])\n",
    "y = df1['Reached.on.Time_Y.N']"
   ]
  },
  {
   "cell_type": "code",
   "execution_count": 35,
   "metadata": {
    "id": "Biv4mv3kCRNj"
   },
   "outputs": [],
   "source": [
    "from sklearn.model_selection import train_test_split\n",
    "\n",
    "# X_train, X_test, y_train, y_test = train_test_split(X, y, test_size = 0.2, random_state = 42)"
   ]
  },
  {
   "cell_type": "markdown",
   "metadata": {
    "id": "aRXaq4Q9Mr2B"
   },
   "source": [
    "# 2. Feature Engineering (35 poin)"
   ]
  },
  {
   "cell_type": "markdown",
   "metadata": {
    "id": "SOwi0zhmMunn"
   },
   "source": [
    "## Cek feature yang ada sekarang, lalu lakukan:\n",
    "A. Feature selection (membuang feature yang kurang relevan atau redundan) <br>\n",
    "B. Feature extraction (membuat feature baru dari feature yang sudah ada) <br>\n",
    "C. Tuliskan minimal 4 feature tambahan (selain yang sudah tersedia di dataset) yang \n",
    "mungkin akan sangat membantu membuat performansi model semakin bagus (ini hanya \n",
    "ide saja, untuk menguji kreativitas teman-teman, tidak perlu benar-benar dicari datanya \n",
    "dan tidak perlu diimplementasikan) <br>\n",
    "<br>\n",
    "Untuk 2A & 2B, tetap tuliskan jika memang tidak bisa dilakukan (contoh: “Semua feature \n",
    "digunakan untuk modelling (tidak ada yang dihapus), karena semua feature relevan”)"
   ]
  },
  {
   "cell_type": "markdown",
   "metadata": {
    "id": "zKI-afQoNDJy"
   },
   "source": [
    "## A. Feature selection (membuang feature yang kurang relevan atau redundan) <br>\n",
    "- ada beberapa feature yang dibuang yaitu ID karena menurut logika kami ID tidak akan mempengaruhi apakah barang telat atau tidak, lalu Nilai asli dari Discount_offered, Mode_of_Shipment, Warehouse_block, Cost_of_the_Product, Weight_in_gms karena sudah dilakukan transformation dll"
   ]
  },
  {
   "cell_type": "markdown",
   "metadata": {
    "id": "2Z1BivntN0zv"
   },
   "source": [
    "## B. Feature extraction (membuat feature baru dari feature yang sudah ada) <br>\n",
    "- pada feature Prior_purchases, Customer_care_calls, Cost_of_the_Product dan Weight_in_gms dilakukan feature transformation, sehingga menghasilkan feature baru berupa nilai-nilai standardization dan normalization <br>\n",
    "<br>\n",
    "- pada feature Mode_of_Shipment dan Warehouse_block dilakukan feature encoding, sehingga menghasilkan feature baru berupa nilai '0' dan '1'"
   ]
  },
  {
   "cell_type": "markdown",
   "metadata": {
    "id": "c2x-2fKUOGQ2"
   },
   "source": [
    "## C. Tuliskan minimal 4 feature tambahan <br>\n",
    "- Lokasi Customer (Bila direalisasikan bisa berdasarkan warehouse block)<br>\n",
    "- Perhitungan berapa hari telatnya berdasarkan estimasi yang sudah ditentukan<br>\n",
    "- Jenis pengiriman (ex :kilat, reguler)<br>\n",
    "- Jasa pengiriman<br>\n",
    "- Tanggal pengiriman<br>\n",
    "- Cuaca"
   ]
  }
 ],
 "metadata": {
  "colab": {
   "collapsed_sections": [],
   "provenance": []
  },
  "kernelspec": {
   "display_name": "Python 3 (ipykernel)",
   "language": "python",
   "name": "python3"
  },
  "language_info": {
   "codemirror_mode": {
    "name": "ipython",
    "version": 3
   },
   "file_extension": ".py",
   "mimetype": "text/x-python",
   "name": "python",
   "nbconvert_exporter": "python",
   "pygments_lexer": "ipython3",
   "version": "3.9.12"
  }
 },
 "nbformat": 4,
 "nbformat_minor": 4
}
